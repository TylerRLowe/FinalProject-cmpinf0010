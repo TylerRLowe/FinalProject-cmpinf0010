{
 "cells": [
  {
   "cell_type": "markdown",
   "metadata": {},
   "source": [
    "Intro: In order to find the best neighborhood in Pittsburgh, we decided to determine which neighborhoods were the most inconvenient to drive in. We looked at speed bumps, permit parking spots, and average daily traffic. We decided that whatever neighborhood is the most annoying to drive in must be the best to walk in, which is healthier anyways. On top of this, more people want to go in the busier neighborhoods, hence more traffic and parking.\n",
    "\n",
    "The Metric: our metric was the most annoying neighorhood to drive in"
   ]
  },
  {
   "cell_type": "markdown",
   "metadata": {},
   "source": [
    "I started by importing pandas and numpy, as well as reading in my speed humps csv, a data set containing all the speed humps in Pittsburgh."
   ]
  },
  {
   "cell_type": "code",
   "execution_count": 14,
   "metadata": {},
   "outputs": [],
   "source": [
    "import pandas as pd\n",
    "import numpy as np\n",
    "%matplotlib inline\n",
    "import matplotlib.pyplot as plt"
   ]
  },
  {
   "cell_type": "markdown",
   "metadata": {},
   "source": [
    "I then printed out the first 5 rows, in order to show what the data set looks like. As you can see it is not organized by neighborhood but instead just a list of all the speed humps in Pittsburgh."
   ]
  },
  {
   "cell_type": "code",
   "execution_count": 15,
   "metadata": {},
   "outputs": [],
   "source": [
    "speedHumps = pd.read_csv(\"SpeedHumps.csv\")"
   ]
  },
  {
   "cell_type": "code",
   "execution_count": 16,
   "metadata": {},
   "outputs": [
    {
     "data": {
      "text/html": [
       "<div>\n",
       "<style scoped>\n",
       "    .dataframe tbody tr th:only-of-type {\n",
       "        vertical-align: middle;\n",
       "    }\n",
       "\n",
       "    .dataframe tbody tr th {\n",
       "        vertical-align: top;\n",
       "    }\n",
       "\n",
       "    .dataframe thead th {\n",
       "        text-align: right;\n",
       "    }\n",
       "</style>\n",
       "<table border=\"1\" class=\"dataframe\">\n",
       "  <thead>\n",
       "    <tr style=\"text-align: right;\">\n",
       "      <th></th>\n",
       "      <th>id</th>\n",
       "      <th>hump_id</th>\n",
       "      <th>locator_address_number</th>\n",
       "      <th>locator_street</th>\n",
       "      <th>pavement</th>\n",
       "      <th>speed_hump_material</th>\n",
       "      <th>neighborhood</th>\n",
       "      <th>council_district</th>\n",
       "      <th>ward</th>\n",
       "      <th>tract</th>\n",
       "      <th>public_works_division</th>\n",
       "      <th>pli_division</th>\n",
       "      <th>police_zone</th>\n",
       "      <th>fire_zone</th>\n",
       "      <th>latitude</th>\n",
       "      <th>longitude</th>\n",
       "    </tr>\n",
       "  </thead>\n",
       "  <tbody>\n",
       "    <tr>\n",
       "      <th>0</th>\n",
       "      <td>430808404</td>\n",
       "      <td>1</td>\n",
       "      <td>4337.0</td>\n",
       "      <td>Saline St</td>\n",
       "      <td>9257</td>\n",
       "      <td>Asphalt</td>\n",
       "      <td>Squirrel Hill South</td>\n",
       "      <td>5</td>\n",
       "      <td>14</td>\n",
       "      <td>42003141400</td>\n",
       "      <td>3</td>\n",
       "      <td>14</td>\n",
       "      <td>4</td>\n",
       "      <td>2-15</td>\n",
       "      <td>40.419835</td>\n",
       "      <td>-79.926062</td>\n",
       "    </tr>\n",
       "    <tr>\n",
       "      <th>1</th>\n",
       "      <td>1520886592</td>\n",
       "      <td>2</td>\n",
       "      <td>NaN</td>\n",
       "      <td>Summerset Dr</td>\n",
       "      <td>15346</td>\n",
       "      <td>NaN</td>\n",
       "      <td>Squirrel Hill South</td>\n",
       "      <td>5</td>\n",
       "      <td>14</td>\n",
       "      <td>42003141400</td>\n",
       "      <td>3</td>\n",
       "      <td>14</td>\n",
       "      <td>4</td>\n",
       "      <td>2-20</td>\n",
       "      <td>40.425040</td>\n",
       "      <td>-79.912040</td>\n",
       "    </tr>\n",
       "    <tr>\n",
       "      <th>2</th>\n",
       "      <td>858537521</td>\n",
       "      <td>3</td>\n",
       "      <td>511.0</td>\n",
       "      <td>Gold Way</td>\n",
       "      <td>1755</td>\n",
       "      <td>Asphalt</td>\n",
       "      <td>North Oakland</td>\n",
       "      <td>6</td>\n",
       "      <td>5</td>\n",
       "      <td>42003562000</td>\n",
       "      <td>3</td>\n",
       "      <td>5</td>\n",
       "      <td>4</td>\n",
       "      <td>2-23</td>\n",
       "      <td>40.456746</td>\n",
       "      <td>-79.954521</td>\n",
       "    </tr>\n",
       "    <tr>\n",
       "      <th>3</th>\n",
       "      <td>297775878</td>\n",
       "      <td>4</td>\n",
       "      <td>547.0</td>\n",
       "      <td>Gold Way</td>\n",
       "      <td>1755</td>\n",
       "      <td>Asphalt</td>\n",
       "      <td>North Oakland</td>\n",
       "      <td>6</td>\n",
       "      <td>5</td>\n",
       "      <td>42003562000</td>\n",
       "      <td>3</td>\n",
       "      <td>5</td>\n",
       "      <td>4</td>\n",
       "      <td>2-23</td>\n",
       "      <td>40.457333</td>\n",
       "      <td>-79.954899</td>\n",
       "    </tr>\n",
       "    <tr>\n",
       "      <th>4</th>\n",
       "      <td>1061197751</td>\n",
       "      <td>5</td>\n",
       "      <td>593.0</td>\n",
       "      <td>Gold Way</td>\n",
       "      <td>1755</td>\n",
       "      <td>Asphalt</td>\n",
       "      <td>North Oakland</td>\n",
       "      <td>6</td>\n",
       "      <td>5</td>\n",
       "      <td>42003562000</td>\n",
       "      <td>3</td>\n",
       "      <td>5</td>\n",
       "      <td>4</td>\n",
       "      <td>2-23</td>\n",
       "      <td>40.458061</td>\n",
       "      <td>-79.955355</td>\n",
       "    </tr>\n",
       "  </tbody>\n",
       "</table>\n",
       "</div>"
      ],
      "text/plain": [
       "           id  hump_id  locator_address_number locator_street  pavement  \\\n",
       "0   430808404        1                  4337.0      Saline St      9257   \n",
       "1  1520886592        2                     NaN   Summerset Dr     15346   \n",
       "2   858537521        3                   511.0       Gold Way      1755   \n",
       "3   297775878        4                   547.0       Gold Way      1755   \n",
       "4  1061197751        5                   593.0       Gold Way      1755   \n",
       "\n",
       "  speed_hump_material         neighborhood  council_district  ward  \\\n",
       "0             Asphalt  Squirrel Hill South                 5    14   \n",
       "1                 NaN  Squirrel Hill South                 5    14   \n",
       "2             Asphalt        North Oakland                 6     5   \n",
       "3             Asphalt        North Oakland                 6     5   \n",
       "4             Asphalt        North Oakland                 6     5   \n",
       "\n",
       "         tract  public_works_division  pli_division  police_zone fire_zone  \\\n",
       "0  42003141400                      3            14            4      2-15   \n",
       "1  42003141400                      3            14            4      2-20   \n",
       "2  42003562000                      3             5            4      2-23   \n",
       "3  42003562000                      3             5            4      2-23   \n",
       "4  42003562000                      3             5            4      2-23   \n",
       "\n",
       "    latitude  longitude  \n",
       "0  40.419835 -79.926062  \n",
       "1  40.425040 -79.912040  \n",
       "2  40.456746 -79.954521  \n",
       "3  40.457333 -79.954899  \n",
       "4  40.458061 -79.955355  "
      ]
     },
     "execution_count": 16,
     "metadata": {},
     "output_type": "execute_result"
    }
   ],
   "source": [
    "speedHumps.head(5)"
   ]
  },
  {
   "cell_type": "markdown",
   "metadata": {},
   "source": [
    "I then grouped by counts of the neighborhood being mentioned in the data set. I printed it out and saw the surprisingly low count of speed humps in each neighborhood. However after thinking about this it makes sense, as I cannot recall actually ever seeing one in Pittsburgh."
   ]
  },
  {
   "cell_type": "code",
   "execution_count": 17,
   "metadata": {},
   "outputs": [
    {
     "data": {
      "text/plain": [
       "Squirrel Hill South    18\n",
       "Carrick                 9\n",
       "Polish Hill             6\n",
       "North Oakland           6\n",
       "Upper Hill              4\n",
       "Brookline               4\n",
       "Homewood South          4\n",
       "South Side Slopes       4\n",
       "Perry North             4\n",
       "Garfield                3\n",
       "Squirrel Hill North     3\n",
       "South Side Flats        3\n",
       "Mount Washington        3\n",
       "Bloomfield              3\n",
       "Highland Park           2\n",
       "Central Oakland         1\n",
       "Stanton Heights         1\n",
       "Overbrook               1\n",
       "Name: neighborhood, dtype: int64"
      ]
     },
     "execution_count": 17,
     "metadata": {},
     "output_type": "execute_result"
    }
   ],
   "source": [
    "humpCount = speedHumps[\"neighborhood\"].value_counts()\n",
    "humpCount"
   ]
  },
  {
   "cell_type": "markdown",
   "metadata": {},
   "source": [
    "Here I put the first 5 into a bar graph, which helps illustrate how many more speed humps squirrel hill south contains when compared to all the other neighborhoods."
   ]
  },
  {
   "cell_type": "code",
   "execution_count": 18,
   "metadata": {},
   "outputs": [
    {
     "data": {
      "text/plain": [
       "<matplotlib.axes._subplots.AxesSubplot at 0x7f6d33fa8ca0>"
      ]
     },
     "execution_count": 18,
     "metadata": {},
     "output_type": "execute_result"
    },
    {
     "data": {
      "image/png": "[encoded data removed]",
      "text/plain": [
       "<Figure size 432x288 with 1 Axes>"
      ]
     },
     "metadata": {
      "needs_background": "light"
     },
     "output_type": "display_data"
    }
   ],
   "source": [
    "humpCount.head(5).plot(kind = \"bar\" )"
   ]
  },
  {
   "cell_type": "code",
   "execution_count": 19,
   "metadata": {},
   "outputs": [
    {
     "data": {
      "text/plain": [
       "Squirrel Hill South    1.000000\n",
       "Carrick                0.500000\n",
       "Polish Hill            0.333333\n",
       "North Oakland          0.333333\n",
       "Upper Hill             0.222222\n",
       "Brookline              0.222222\n",
       "Homewood South         0.222222\n",
       "South Side Slopes      0.222222\n",
       "Perry North            0.222222\n",
       "Garfield               0.166667\n",
       "Squirrel Hill North    0.166667\n",
       "South Side Flats       0.166667\n",
       "Mount Washington       0.166667\n",
       "Bloomfield             0.166667\n",
       "Highland Park          0.111111\n",
       "Central Oakland        0.055556\n",
       "Stanton Heights        0.055556\n",
       "Overbrook              0.055556\n",
       "Name: neighborhood, dtype: float64"
      ]
     },
     "execution_count": 19,
     "metadata": {},
     "output_type": "execute_result"
    }
   ],
   "source": [
    "\n",
    "humpCountNormal = humpCount / 18\n",
    "humpCountNormal"
   ]
  },
  {
   "cell_type": "code",
   "execution_count": 20,
   "metadata": {},
   "outputs": [
    {
     "data": {
      "text/plain": [
       "<matplotlib.axes._subplots.AxesSubplot at 0x7f6d33f8beb0>"
      ]
     },
     "execution_count": 20,
     "metadata": {},
     "output_type": "execute_result"
    },
    {
     "data": {
      "image/png": "[encoded data removed]",
      "text/plain": [
       "<Figure size 432x288 with 1 Axes>"
      ]
     },
     "metadata": {
      "needs_background": "light"
     },
     "output_type": "display_data"
    }
   ],
   "source": [
    "humpCountNormal.plot()"
   ]
  },
  {
   "cell_type": "markdown",
   "metadata": {},
   "source": [
    "Here I normalized the data to one in order to effectively give them a score of inconvenience, with 1 being the best (most inconvenient), and 0 being the worst(very convenient), then graphed again showing the step drop off between towns.\n"
   ]
  },
  {
   "cell_type": "markdown",
   "metadata": {},
   "source": []
  },
  {
   "cell_type": "code",
   "execution_count": 21,
   "metadata": {},
   "outputs": [],
   "source": [
    "import pandas as pd\n",
    "import numpy as np\n",
    "%matplotlib inline\n",
    "import matplotlib.pyplot as plt"
   ]
  },
  {
   "cell_type": "code",
   "execution_count": 22,
   "metadata": {},
   "outputs": [],
   "source": [
    "traffic_data = pd.read_csv(\"permitparkingpittsburgh.csv\")"
   ]
  },
  {
   "cell_type": "code",
   "execution_count": 23,
   "metadata": {},
   "outputs": [
    {
     "data": {
      "text/html": [
       "<div>\n",
       "<style scoped>\n",
       "    .dataframe tbody tr th:only-of-type {\n",
       "        vertical-align: middle;\n",
       "    }\n",
       "\n",
       "    .dataframe tbody tr th {\n",
       "        vertical-align: top;\n",
       "    }\n",
       "\n",
       "    .dataframe thead th {\n",
       "        text-align: right;\n",
       "    }\n",
       "</style>\n",
       "<table border=\"1\" class=\"dataframe\">\n",
       "  <thead>\n",
       "    <tr style=\"text-align: right;\">\n",
       "      <th></th>\n",
       "      <th>objectid</th>\n",
       "      <th>area</th>\n",
       "      <th>perimeter</th>\n",
       "      <th>permitpk</th>\n",
       "      <th>permitpk_i</th>\n",
       "      <th>code</th>\n",
       "      <th>neighborhood</th>\n",
       "      <th>number</th>\n",
       "      <th>acres</th>\n",
       "      <th>sqmiles</th>\n",
       "      <th>...</th>\n",
       "      <th>district</th>\n",
       "      <th>code_rpp</th>\n",
       "      <th>code_district</th>\n",
       "      <th>created_user</th>\n",
       "      <th>created_date</th>\n",
       "      <th>last_edited_user</th>\n",
       "      <th>last_edited_date</th>\n",
       "      <th>expiration_date</th>\n",
       "      <th>shape_area</th>\n",
       "      <th>shape_length</th>\n",
       "    </tr>\n",
       "  </thead>\n",
       "  <tbody>\n",
       "    <tr>\n",
       "      <th>0</th>\n",
       "      <td>1661</td>\n",
       "      <td>NaN</td>\n",
       "      <td>1794.414415</td>\n",
       "      <td>3.0</td>\n",
       "      <td>102.0</td>\n",
       "      <td>I</td>\n",
       "      <td>GARFIELD</td>\n",
       "      <td>0.0</td>\n",
       "      <td>2.618</td>\n",
       "      <td>0.000</td>\n",
       "      <td>...</td>\n",
       "      <td>Garifield</td>\n",
       "      <td>I</td>\n",
       "      <td>I - Garifield</td>\n",
       "      <td>pgh.admin</td>\n",
       "      <td>2021-02-23T17:45:48</td>\n",
       "      <td>pgh.admin</td>\n",
       "      <td>2021-02-23T17:45:48</td>\n",
       "      <td>Permit Expires May 1st</td>\n",
       "      <td>3.737608e+05</td>\n",
       "      <td>3059.453089</td>\n",
       "    </tr>\n",
       "    <tr>\n",
       "      <th>1</th>\n",
       "      <td>1662</td>\n",
       "      <td>NaN</td>\n",
       "      <td>0.000000</td>\n",
       "      <td>0.0</td>\n",
       "      <td>0.0</td>\n",
       "      <td>CC</td>\n",
       "      <td>SOUTH SIDE FLATS</td>\n",
       "      <td>0.0</td>\n",
       "      <td>31.399</td>\n",
       "      <td>0.000</td>\n",
       "      <td>...</td>\n",
       "      <td>South Side</td>\n",
       "      <td>CC</td>\n",
       "      <td>CC - South Side</td>\n",
       "      <td>pgh.admin</td>\n",
       "      <td>2021-02-23T17:45:48</td>\n",
       "      <td>pgh.admin</td>\n",
       "      <td>2021-02-23T17:45:48</td>\n",
       "      <td>Permit Expires January 1st</td>\n",
       "      <td>1.892114e+06</td>\n",
       "      <td>7149.177081</td>\n",
       "    </tr>\n",
       "    <tr>\n",
       "      <th>2</th>\n",
       "      <td>1663</td>\n",
       "      <td>NaN</td>\n",
       "      <td>5103.253204</td>\n",
       "      <td>0.0</td>\n",
       "      <td>0.0</td>\n",
       "      <td>DD</td>\n",
       "      <td>SOUTH SIDE FLATS</td>\n",
       "      <td>0.0</td>\n",
       "      <td>11.785</td>\n",
       "      <td>0.022</td>\n",
       "      <td>...</td>\n",
       "      <td>South Side</td>\n",
       "      <td>DD</td>\n",
       "      <td>DD - South Side</td>\n",
       "      <td>pgh.admin</td>\n",
       "      <td>2021-02-23T17:45:48</td>\n",
       "      <td>pgh.admin</td>\n",
       "      <td>2021-02-23T17:45:48</td>\n",
       "      <td>Permit Expires January 1st</td>\n",
       "      <td>1.799404e+06</td>\n",
       "      <td>9074.841352</td>\n",
       "    </tr>\n",
       "    <tr>\n",
       "      <th>3</th>\n",
       "      <td>1664</td>\n",
       "      <td>NaN</td>\n",
       "      <td>4981.569181</td>\n",
       "      <td>8.0</td>\n",
       "      <td>6.0</td>\n",
       "      <td>L</td>\n",
       "      <td>CENTRAL NORTHSIDE</td>\n",
       "      <td>0.0</td>\n",
       "      <td>19.779</td>\n",
       "      <td>0.033</td>\n",
       "      <td>...</td>\n",
       "      <td>North Side</td>\n",
       "      <td>L</td>\n",
       "      <td>L - North Side</td>\n",
       "      <td>pgh.admin</td>\n",
       "      <td>2021-02-23T17:45:48</td>\n",
       "      <td>pgh.admin</td>\n",
       "      <td>2021-02-23T17:45:48</td>\n",
       "      <td>Permit Expires January 1st</td>\n",
       "      <td>8.699288e+05</td>\n",
       "      <td>5146.016086</td>\n",
       "    </tr>\n",
       "    <tr>\n",
       "      <th>4</th>\n",
       "      <td>1665</td>\n",
       "      <td>NaN</td>\n",
       "      <td>NaN</td>\n",
       "      <td>NaN</td>\n",
       "      <td>NaN</td>\n",
       "      <td>GG</td>\n",
       "      <td>LAWRENCEVILLE</td>\n",
       "      <td>NaN</td>\n",
       "      <td>NaN</td>\n",
       "      <td>NaN</td>\n",
       "      <td>...</td>\n",
       "      <td>Lawrenceville</td>\n",
       "      <td>GG</td>\n",
       "      <td>GG - Lawrenceville</td>\n",
       "      <td>pgh.admin</td>\n",
       "      <td>2021-02-23T17:45:48</td>\n",
       "      <td>pgh.admin</td>\n",
       "      <td>2021-02-23T17:45:48</td>\n",
       "      <td>Permit Expires March 1st</td>\n",
       "      <td>6.136340e+05</td>\n",
       "      <td>3862.527254</td>\n",
       "    </tr>\n",
       "    <tr>\n",
       "      <th>5</th>\n",
       "      <td>1666</td>\n",
       "      <td>NaN</td>\n",
       "      <td>NaN</td>\n",
       "      <td>NaN</td>\n",
       "      <td>NaN</td>\n",
       "      <td>KK</td>\n",
       "      <td>SOUTH SIDE FLATS</td>\n",
       "      <td>NaN</td>\n",
       "      <td>NaN</td>\n",
       "      <td>NaN</td>\n",
       "      <td>...</td>\n",
       "      <td>NaN</td>\n",
       "      <td>KK</td>\n",
       "      <td>KK - South Side Flats</td>\n",
       "      <td>pgh.admin</td>\n",
       "      <td>2021-02-23T17:45:48</td>\n",
       "      <td>pgh.admin</td>\n",
       "      <td>2021-02-23T17:45:48</td>\n",
       "      <td>Permit Expires August 1st</td>\n",
       "      <td>4.278406e+05</td>\n",
       "      <td>2993.209780</td>\n",
       "    </tr>\n",
       "    <tr>\n",
       "      <th>6</th>\n",
       "      <td>1667</td>\n",
       "      <td>NaN</td>\n",
       "      <td>0.000000</td>\n",
       "      <td>0.0</td>\n",
       "      <td>0.0</td>\n",
       "      <td>FF</td>\n",
       "      <td></td>\n",
       "      <td>0.0</td>\n",
       "      <td>0.000</td>\n",
       "      <td>0.000</td>\n",
       "      <td>...</td>\n",
       "      <td>Schenley Farms</td>\n",
       "      <td>FF</td>\n",
       "      <td>FF - Schenley Farms</td>\n",
       "      <td>pgh.admin</td>\n",
       "      <td>2021-02-23T17:45:48</td>\n",
       "      <td>pgh.admin</td>\n",
       "      <td>2021-02-23T17:45:48</td>\n",
       "      <td>Permit Expires February 1st</td>\n",
       "      <td>1.071561e+06</td>\n",
       "      <td>4581.635756</td>\n",
       "    </tr>\n",
       "    <tr>\n",
       "      <th>7</th>\n",
       "      <td>1668</td>\n",
       "      <td>NaN</td>\n",
       "      <td>7245.381613</td>\n",
       "      <td>10.0</td>\n",
       "      <td>7.0</td>\n",
       "      <td>F</td>\n",
       "      <td>EAST ALLEGHENY</td>\n",
       "      <td>0.0</td>\n",
       "      <td>49.042</td>\n",
       "      <td>0.077</td>\n",
       "      <td>...</td>\n",
       "      <td>East Allegheny-East North Side</td>\n",
       "      <td>F</td>\n",
       "      <td>F - East Allegheny-East North Side</td>\n",
       "      <td>pgh.admin</td>\n",
       "      <td>2021-02-23T17:45:48</td>\n",
       "      <td>pgh.admin</td>\n",
       "      <td>2021-02-23T17:45:48</td>\n",
       "      <td>Permit Expires February 1st</td>\n",
       "      <td>2.136249e+06</td>\n",
       "      <td>7245.380979</td>\n",
       "    </tr>\n",
       "    <tr>\n",
       "      <th>8</th>\n",
       "      <td>1669</td>\n",
       "      <td>NaN</td>\n",
       "      <td>NaN</td>\n",
       "      <td>NaN</td>\n",
       "      <td>NaN</td>\n",
       "      <td>A</td>\n",
       "      <td>LAWRENCEVILLE</td>\n",
       "      <td>NaN</td>\n",
       "      <td>NaN</td>\n",
       "      <td>NaN</td>\n",
       "      <td>...</td>\n",
       "      <td>Lawrenceville</td>\n",
       "      <td>A</td>\n",
       "      <td>A - Lawrenceville</td>\n",
       "      <td>pgh.admin</td>\n",
       "      <td>2021-02-23T17:45:48</td>\n",
       "      <td>pgh.admin</td>\n",
       "      <td>2021-02-23T17:45:48</td>\n",
       "      <td>Permit Expires March 1st</td>\n",
       "      <td>3.770040e+06</td>\n",
       "      <td>10685.607314</td>\n",
       "    </tr>\n",
       "    <tr>\n",
       "      <th>9</th>\n",
       "      <td>1670</td>\n",
       "      <td>NaN</td>\n",
       "      <td>12008.154735</td>\n",
       "      <td>2.0</td>\n",
       "      <td>1.0</td>\n",
       "      <td>JJ</td>\n",
       "      <td>BLOOMFIELD</td>\n",
       "      <td>0.0</td>\n",
       "      <td>134.957</td>\n",
       "      <td>0.151</td>\n",
       "      <td>...</td>\n",
       "      <td>Bloomfield</td>\n",
       "      <td>JJ</td>\n",
       "      <td>JJ - Bloomfield</td>\n",
       "      <td>pgh.admin</td>\n",
       "      <td>2021-02-23T17:45:48</td>\n",
       "      <td>pgh.admin</td>\n",
       "      <td>2021-02-23T17:45:48</td>\n",
       "      <td>Permit Expires March 1st</td>\n",
       "      <td>1.985585e+06</td>\n",
       "      <td>6256.529346</td>\n",
       "    </tr>\n",
       "    <tr>\n",
       "      <th>10</th>\n",
       "      <td>1671</td>\n",
       "      <td>NaN</td>\n",
       "      <td>17175.104428</td>\n",
       "      <td>18.0</td>\n",
       "      <td>25.0</td>\n",
       "      <td>J</td>\n",
       "      <td>SHADYSIDE</td>\n",
       "      <td>0.0</td>\n",
       "      <td>97.035</td>\n",
       "      <td>0.152</td>\n",
       "      <td>...</td>\n",
       "      <td>West Shadyside-Bellefield</td>\n",
       "      <td>J</td>\n",
       "      <td>J - West Shadyside-Bellefield</td>\n",
       "      <td>pgh.admin</td>\n",
       "      <td>2021-02-23T17:45:48</td>\n",
       "      <td>pgh.admin</td>\n",
       "      <td>2021-02-23T17:45:48</td>\n",
       "      <td>Permit Expires April 1st</td>\n",
       "      <td>4.226824e+06</td>\n",
       "      <td>17175.104382</td>\n",
       "    </tr>\n",
       "    <tr>\n",
       "      <th>11</th>\n",
       "      <td>1672</td>\n",
       "      <td>NaN</td>\n",
       "      <td>17175.104428</td>\n",
       "      <td>18.0</td>\n",
       "      <td>25.0</td>\n",
       "      <td>J</td>\n",
       "      <td>SHADYSIDE</td>\n",
       "      <td>0.0</td>\n",
       "      <td>97.035</td>\n",
       "      <td>0.152</td>\n",
       "      <td>...</td>\n",
       "      <td>West Shadyside-Bellefield</td>\n",
       "      <td>J</td>\n",
       "      <td>J - West Shadyside-Bellefield</td>\n",
       "      <td>pgh.admin</td>\n",
       "      <td>2021-02-23T17:45:48</td>\n",
       "      <td>pgh.admin</td>\n",
       "      <td>2021-02-23T17:45:48</td>\n",
       "      <td>Permit Expires April 1st</td>\n",
       "      <td>5.618586e+05</td>\n",
       "      <td>3995.286824</td>\n",
       "    </tr>\n",
       "    <tr>\n",
       "      <th>12</th>\n",
       "      <td>1673</td>\n",
       "      <td>NaN</td>\n",
       "      <td>7302.633216</td>\n",
       "      <td>49.0</td>\n",
       "      <td>110.0</td>\n",
       "      <td>N</td>\n",
       "      <td>MT WASHINGTON</td>\n",
       "      <td>0.0</td>\n",
       "      <td>26.005</td>\n",
       "      <td>0.000</td>\n",
       "      <td>...</td>\n",
       "      <td>Mt. Washington</td>\n",
       "      <td>N</td>\n",
       "      <td>N - Mt. Washington</td>\n",
       "      <td>pgh.admin</td>\n",
       "      <td>2021-02-23T17:45:48</td>\n",
       "      <td>pgh.admin</td>\n",
       "      <td>2021-02-23T17:45:48</td>\n",
       "      <td>Permit Expires April 1st</td>\n",
       "      <td>1.275274e+06</td>\n",
       "      <td>9010.182419</td>\n",
       "    </tr>\n",
       "    <tr>\n",
       "      <th>13</th>\n",
       "      <td>1674</td>\n",
       "      <td>NaN</td>\n",
       "      <td>NaN</td>\n",
       "      <td>NaN</td>\n",
       "      <td>NaN</td>\n",
       "      <td>LL</td>\n",
       "      <td>NaN</td>\n",
       "      <td>NaN</td>\n",
       "      <td>NaN</td>\n",
       "      <td>NaN</td>\n",
       "      <td>...</td>\n",
       "      <td>North Oakland-Bloomfield</td>\n",
       "      <td>LL</td>\n",
       "      <td>LL - North Oakland-Bloomfield</td>\n",
       "      <td>pgh.admin</td>\n",
       "      <td>2021-02-23T17:45:48</td>\n",
       "      <td>pgh.admin</td>\n",
       "      <td>2021-02-23T17:45:48</td>\n",
       "      <td>Permit Expires May 1st</td>\n",
       "      <td>2.424949e+05</td>\n",
       "      <td>2234.170307</td>\n",
       "    </tr>\n",
       "    <tr>\n",
       "      <th>14</th>\n",
       "      <td>1675</td>\n",
       "      <td>NaN</td>\n",
       "      <td>NaN</td>\n",
       "      <td>NaN</td>\n",
       "      <td>NaN</td>\n",
       "      <td>LL</td>\n",
       "      <td>NaN</td>\n",
       "      <td>NaN</td>\n",
       "      <td>NaN</td>\n",
       "      <td>NaN</td>\n",
       "      <td>...</td>\n",
       "      <td>North Oakland-Bloomfield</td>\n",
       "      <td>LL</td>\n",
       "      <td>LL - North Oakland-Bloomfield</td>\n",
       "      <td>pgh.admin</td>\n",
       "      <td>2021-02-23T17:45:48</td>\n",
       "      <td>pgh.admin</td>\n",
       "      <td>2021-02-23T17:45:48</td>\n",
       "      <td>Permit Expires May 1st</td>\n",
       "      <td>9.135807e+04</td>\n",
       "      <td>2392.614274</td>\n",
       "    </tr>\n",
       "  </tbody>\n",
       "</table>\n",
       "<p>15 rows × 34 columns</p>\n",
       "</div>"
      ],
      "text/plain": [
       "    objectid  area     perimeter  permitpk  permitpk_i code  \\\n",
       "0       1661   NaN   1794.414415       3.0       102.0    I   \n",
       "1       1662   NaN      0.000000       0.0         0.0   CC   \n",
       "2       1663   NaN   5103.253204       0.0         0.0   DD   \n",
       "3       1664   NaN   4981.569181       8.0         6.0    L   \n",
       "4       1665   NaN           NaN       NaN         NaN   GG   \n",
       "5       1666   NaN           NaN       NaN         NaN   KK   \n",
       "6       1667   NaN      0.000000       0.0         0.0   FF   \n",
       "7       1668   NaN   7245.381613      10.0         7.0    F   \n",
       "8       1669   NaN           NaN       NaN         NaN    A   \n",
       "9       1670   NaN  12008.154735       2.0         1.0   JJ   \n",
       "10      1671   NaN  17175.104428      18.0        25.0    J   \n",
       "11      1672   NaN  17175.104428      18.0        25.0    J   \n",
       "12      1673   NaN   7302.633216      49.0       110.0    N   \n",
       "13      1674   NaN           NaN       NaN         NaN   LL   \n",
       "14      1675   NaN           NaN       NaN         NaN   LL   \n",
       "\n",
       "         neighborhood  number    acres  sqmiles  ...  \\\n",
       "0            GARFIELD     0.0    2.618    0.000  ...   \n",
       "1    SOUTH SIDE FLATS     0.0   31.399    0.000  ...   \n",
       "2    SOUTH SIDE FLATS     0.0   11.785    0.022  ...   \n",
       "3   CENTRAL NORTHSIDE     0.0   19.779    0.033  ...   \n",
       "4       LAWRENCEVILLE     NaN      NaN      NaN  ...   \n",
       "5    SOUTH SIDE FLATS     NaN      NaN      NaN  ...   \n",
       "6                         0.0    0.000    0.000  ...   \n",
       "7      EAST ALLEGHENY     0.0   49.042    0.077  ...   \n",
       "8       LAWRENCEVILLE     NaN      NaN      NaN  ...   \n",
       "9          BLOOMFIELD     0.0  134.957    0.151  ...   \n",
       "10          SHADYSIDE     0.0   97.035    0.152  ...   \n",
       "11          SHADYSIDE     0.0   97.035    0.152  ...   \n",
       "12      MT WASHINGTON     0.0   26.005    0.000  ...   \n",
       "13                NaN     NaN      NaN      NaN  ...   \n",
       "14                NaN     NaN      NaN      NaN  ...   \n",
       "\n",
       "                          district code_rpp  \\\n",
       "0                        Garifield        I   \n",
       "1                       South Side       CC   \n",
       "2                       South Side       DD   \n",
       "3                       North Side        L   \n",
       "4                    Lawrenceville       GG   \n",
       "5                              NaN       KK   \n",
       "6                   Schenley Farms       FF   \n",
       "7   East Allegheny-East North Side        F   \n",
       "8                    Lawrenceville        A   \n",
       "9                       Bloomfield       JJ   \n",
       "10       West Shadyside-Bellefield        J   \n",
       "11       West Shadyside-Bellefield        J   \n",
       "12                  Mt. Washington        N   \n",
       "13        North Oakland-Bloomfield       LL   \n",
       "14        North Oakland-Bloomfield       LL   \n",
       "\n",
       "                         code_district created_user         created_date  \\\n",
       "0                        I - Garifield    pgh.admin  2021-02-23T17:45:48   \n",
       "1                      CC - South Side    pgh.admin  2021-02-23T17:45:48   \n",
       "2                      DD - South Side    pgh.admin  2021-02-23T17:45:48   \n",
       "3                       L - North Side    pgh.admin  2021-02-23T17:45:48   \n",
       "4                   GG - Lawrenceville    pgh.admin  2021-02-23T17:45:48   \n",
       "5                KK - South Side Flats    pgh.admin  2021-02-23T17:45:48   \n",
       "6                  FF - Schenley Farms    pgh.admin  2021-02-23T17:45:48   \n",
       "7   F - East Allegheny-East North Side    pgh.admin  2021-02-23T17:45:48   \n",
       "8                    A - Lawrenceville    pgh.admin  2021-02-23T17:45:48   \n",
       "9                      JJ - Bloomfield    pgh.admin  2021-02-23T17:45:48   \n",
       "10       J - West Shadyside-Bellefield    pgh.admin  2021-02-23T17:45:48   \n",
       "11       J - West Shadyside-Bellefield    pgh.admin  2021-02-23T17:45:48   \n",
       "12                  N - Mt. Washington    pgh.admin  2021-02-23T17:45:48   \n",
       "13       LL - North Oakland-Bloomfield    pgh.admin  2021-02-23T17:45:48   \n",
       "14       LL - North Oakland-Bloomfield    pgh.admin  2021-02-23T17:45:48   \n",
       "\n",
       "   last_edited_user     last_edited_date              expiration_date  \\\n",
       "0         pgh.admin  2021-02-23T17:45:48       Permit Expires May 1st   \n",
       "1         pgh.admin  2021-02-23T17:45:48   Permit Expires January 1st   \n",
       "2         pgh.admin  2021-02-23T17:45:48   Permit Expires January 1st   \n",
       "3         pgh.admin  2021-02-23T17:45:48   Permit Expires January 1st   \n",
       "4         pgh.admin  2021-02-23T17:45:48     Permit Expires March 1st   \n",
       "5         pgh.admin  2021-02-23T17:45:48    Permit Expires August 1st   \n",
       "6         pgh.admin  2021-02-23T17:45:48  Permit Expires February 1st   \n",
       "7         pgh.admin  2021-02-23T17:45:48  Permit Expires February 1st   \n",
       "8         pgh.admin  2021-02-23T17:45:48     Permit Expires March 1st   \n",
       "9         pgh.admin  2021-02-23T17:45:48     Permit Expires March 1st   \n",
       "10        pgh.admin  2021-02-23T17:45:48     Permit Expires April 1st   \n",
       "11        pgh.admin  2021-02-23T17:45:48     Permit Expires April 1st   \n",
       "12        pgh.admin  2021-02-23T17:45:48     Permit Expires April 1st   \n",
       "13        pgh.admin  2021-02-23T17:45:48       Permit Expires May 1st   \n",
       "14        pgh.admin  2021-02-23T17:45:48       Permit Expires May 1st   \n",
       "\n",
       "      shape_area  shape_length  \n",
       "0   3.737608e+05   3059.453089  \n",
       "1   1.892114e+06   7149.177081  \n",
       "2   1.799404e+06   9074.841352  \n",
       "3   8.699288e+05   5146.016086  \n",
       "4   6.136340e+05   3862.527254  \n",
       "5   4.278406e+05   2993.209780  \n",
       "6   1.071561e+06   4581.635756  \n",
       "7   2.136249e+06   7245.380979  \n",
       "8   3.770040e+06  10685.607314  \n",
       "9   1.985585e+06   6256.529346  \n",
       "10  4.226824e+06  17175.104382  \n",
       "11  5.618586e+05   3995.286824  \n",
       "12  1.275274e+06   9010.182419  \n",
       "13  2.424949e+05   2234.170307  \n",
       "14  9.135807e+04   2392.614274  \n",
       "\n",
       "[15 rows x 34 columns]"
      ]
     },
     "execution_count": 23,
     "metadata": {},
     "output_type": "execute_result"
    }
   ],
   "source": [
    "traffic_data.head(15)"
   ]
  },
  {
   "cell_type": "code",
   "execution_count": 24,
   "metadata": {},
   "outputs": [
    {
     "data": {
      "text/plain": [
       "SHADYSIDE                      6\n",
       "SQUIRREL HILL NORTH            5\n",
       "BLOOMFIELD                     4\n",
       "SOUTH SIDE FLATS               4\n",
       "WEST OAKLAND                   3\n",
       "NORTH OAKLAND                  3\n",
       "CRAWFORD ROBERTS               2\n",
       "SOUTH OAKLAND                  2\n",
       "ALLEGHENY WEST                 2\n",
       "HOMEWOOD SOUTH                 2\n",
       "FRIENDSHIP                     2\n",
       "EAST ALLEGHENY                 2\n",
       "                               2\n",
       "LAWRENCEVILLE                  2\n",
       "CENTRAL NORTHSIDE              2\n",
       "BLUFF                          1\n",
       "BEECHVIEW                      1\n",
       "GARFIELD                       1\n",
       "CENTRAL OAKLAND                1\n",
       "POINT BREEZE                   1\n",
       "MT WASHINGTON                  1\n",
       "SQURREL HILL NORTH &  SOUTH    1\n",
       "Name: neighborhood, dtype: int64"
      ]
     },
     "execution_count": 24,
     "metadata": {},
     "output_type": "execute_result"
    }
   ],
   "source": [
    "permitParking = traffic_data[\"neighborhood\"].value_counts()\n",
    "permitParking"
   ]
  },
  {
   "cell_type": "code",
   "execution_count": 25,
   "metadata": {},
   "outputs": [
    {
     "data": {
      "text/plain": [
       "<matplotlib.axes._subplots.AxesSubplot at 0x7f6d33ee60a0>"
      ]
     },
     "execution_count": 25,
     "metadata": {},
     "output_type": "execute_result"
    },
    {
     "data": {
      "image/png": "[encoded data removed]",
      "text/plain": [
       "<Figure size 432x288 with 1 Axes>"
      ]
     },
     "metadata": {
      "needs_background": "light"
     },
     "output_type": "display_data"
    }
   ],
   "source": [
    "permitParking.head(15).plot(kind = \"bar\" )"
   ]
  },
  {
   "cell_type": "code",
   "execution_count": 36,
   "metadata": {},
   "outputs": [
    {
     "data": {
      "text/plain": [
       "SHADYSIDE                      1.000000\n",
       "SQUIRREL HILL NORTH            0.833333\n",
       "BLOOMFIELD                     0.666667\n",
       "SOUTH SIDE FLATS               0.666667\n",
       "WEST OAKLAND                   0.500000\n",
       "NORTH OAKLAND                  0.500000\n",
       "CRAWFORD ROBERTS               0.333333\n",
       "SOUTH OAKLAND                  0.333333\n",
       "ALLEGHENY WEST                 0.333333\n",
       "HOMEWOOD SOUTH                 0.333333\n",
       "FRIENDSHIP                     0.333333\n",
       "EAST ALLEGHENY                 0.333333\n",
       "                               0.333333\n",
       "LAWRENCEVILLE                  0.333333\n",
       "CENTRAL NORTHSIDE              0.333333\n",
       "BLUFF                          0.166667\n",
       "BEECHVIEW                      0.166667\n",
       "GARFIELD                       0.166667\n",
       "CENTRAL OAKLAND                0.166667\n",
       "POINT BREEZE                   0.166667\n",
       "MT WASHINGTON                  0.166667\n",
       "SQURREL HILL NORTH &  SOUTH    0.166667\n",
       "Name: neighborhood, dtype: float64"
      ]
     },
     "execution_count": 36,
     "metadata": {},
     "output_type": "execute_result"
    }
   ],
   "source": [
    "permitAv = permitParking / 6\n",
    "permitAv"
   ]
  },
  {
   "cell_type": "markdown",
   "metadata": {},
   "source": [
    "The numbers to the side of each neighborhood represent the total number of areas they assign parking permits. The highest value is 6 in Shadyside so I decided to divide the rest of the numbers by 6 since that was the highest value."
   ]
  },
  {
   "cell_type": "code",
   "execution_count": 37,
   "metadata": {},
   "outputs": [
    {
     "data": {
      "text/plain": [
       "<matplotlib.axes._subplots.AxesSubplot at 0x7f6d2c4668e0>"
      ]
     },
     "execution_count": 37,
     "metadata": {},
     "output_type": "execute_result"
    },
    {
     "data": {
      "image/png": "[encoded data removed]",
      "text/plain": [
       "<Figure size 432x288 with 1 Axes>"
      ]
     },
     "metadata": {
      "needs_background": "light"
     },
     "output_type": "display_data"
    }
   ],
   "source": [
    "permitAv.plot()"
   ]
  },
  {
   "cell_type": "markdown",
   "metadata": {},
   "source": [
    "Metric: The metric I chose was traffic data and really liked it because it had alot of data on recorded speeding incidents and what nieghborhood the driver was recorded speeding in. It also had daily car traffic for each nieghborhood over a week period at a time. This allowed me to see which neigborhoods were the busiest amongst traffic along with the particular behaviour of the traffic by looking at the speeding."
   ]
  },
  {
   "cell_type": "code",
   "execution_count": 38,
   "metadata": {},
   "outputs": [
    {
     "data": {
      "text/plain": [
       "Squirrel Hill South    28\n",
       "Bloomfield             21\n",
       "Shadyside              18\n",
       "Highland Park          16\n",
       "East Liberty           16\n",
       "                       ..\n",
       "Allegheny Center        1\n",
       "Upper Lawrenceville     1\n",
       "Duquesne Heights        1\n",
       "Regent Square           1\n",
       "Crawford-Roberts        1\n",
       "Name: neighborhood, Length: 74, dtype: int64"
      ]
     },
     "execution_count": 38,
     "metadata": {},
     "output_type": "execute_result"
    }
   ],
   "source": [
    "\n",
    "import pandas as pd\n",
    "import numpy as np\n",
    "import geopandas\n",
    "%matplotlib inline\n",
    "import matplotlib.pyplot as plt\n",
    "\n",
    "traffic_data = pd.read_csv(\"trafficpittsburgh.csv\", \n",
    "                                       index_col=\"id\")\n",
    "df = pd.DataFrame(traffic_data)\n",
    "dailytraffic = traffic_data[\"neighborhood\"].value_counts()\n",
    "dailytraffic\n"
   ]
  },
  {
   "cell_type": "code",
   "execution_count": 39,
   "metadata": {},
   "outputs": [
    {
     "data": {
      "text/plain": [
       "Squirrel Hill South    1.000000\n",
       "Bloomfield             0.750000\n",
       "Shadyside              0.642857\n",
       "Highland Park          0.571429\n",
       "East Liberty           0.571429\n",
       "                         ...   \n",
       "Allegheny Center       0.035714\n",
       "Upper Lawrenceville    0.035714\n",
       "Duquesne Heights       0.035714\n",
       "Regent Square          0.035714\n",
       "Crawford-Roberts       0.035714\n",
       "Name: neighborhood, Length: 74, dtype: float64"
      ]
     },
     "execution_count": 39,
     "metadata": {},
     "output_type": "execute_result"
    }
   ],
   "source": [
    "trafficcount = dailytraffic / 28\n",
    "trafficcount"
   ]
  },
  {
   "cell_type": "code",
   "execution_count": 40,
   "metadata": {},
   "outputs": [
    {
     "data": {
      "text/plain": [
       "<matplotlib.axes._subplots.AxesSubplot at 0x7f6d2c447be0>"
      ]
     },
     "execution_count": 40,
     "metadata": {},
     "output_type": "execute_result"
    },
    {
     "data": {
      "image/png": "[encoded data removed]",
      "text/plain": [
       "<Figure size 432x288 with 1 Axes>"
      ]
     },
     "metadata": {
      "needs_background": "light"
     },
     "output_type": "display_data"
    }
   ],
   "source": [
    "trafficcount.head(28).plot(kind = \"bar\")"
   ]
  },
  {
   "cell_type": "code",
   "execution_count": 108,
   "metadata": {},
   "outputs": [],
   "source": [
    "combinedData =  trafficcount.combine(humpCountNormal,max)\n",
    "combinedData.combine(permitAv,max)\n",
    "combinedData = combinedData.sort_values()"
   ]
  },
  {
   "cell_type": "code",
   "execution_count": 110,
   "metadata": {},
   "outputs": [
    {
     "data": {
      "text/plain": [
       "<matplotlib.axes._subplots.AxesSubplot at 0x7f6d2ac4d760>"
      ]
     },
     "execution_count": 110,
     "metadata": {},
     "output_type": "execute_result"
    },
    {
     "data": {
      "image/png": "[encoded data removed]",
      "text/plain": [
       "<Figure size 432x288 with 1 Axes>"
      ]
     },
     "metadata": {
      "needs_background": "light"
     },
     "output_type": "display_data"
    }
   ],
   "source": [
    "\n",
    "combinedData.tail(10).plot(kind = \"bar\")"
   ]
  },
  {
   "cell_type": "markdown",
   "metadata": {},
   "source": [
    "Overall the most inconvinenet "
   ]
  },
  {
   "cell_type": "markdown",
   "metadata": {},
   "source": [
    "Conclusion:\n",
    "\n",
    "Matt's The number of parking permits given out translates to a lack of parking spots available for other drivers passing through. When looking at which areas would be the worst to park in, Shadyside came out as the worst part of Pittsburgh. When comparing my results to my partners results, we determinded that Squirrel Hill is the worst area to drive in. The result is not suprising because Squirrel Hill is a nice area, and a nice area translates to more people going there which makes it harder to park"
   ]
  },
  {
   "cell_type": "markdown",
   "metadata": {},
   "source": [
    "Tyler's conclusion: By combining the data, we were able to determine Squirrel Hill is the best neighborhood to be in. This is not surprising to me, since it seems to be a nice neighborhood whenever I go there to get dinner or something. The fact Oakland is not higher for traffic surprised me, as it always seems congested and hectic during rush hour.\n",
    "\n",
    "Luke's Conclusion: Looking at my data we are able to see that Squirrel Hill is the by far the busiest neighborhood and as a result has a much higher rate of speeding instances. Squirrel hill has almost 30% more speeding occurrences in the past 2 years than other nieghborhoods. This makes sense because Squirrel Hill is a very popular nieghborhood and would have the worst and most annoying traffic. Looking at all of our data we can see that Squirrel Hill would be the best nieghborhood because of how annoying the traffic, speed humps and parking permits would be to deal will on a daily basis. "
   ]
  },
  {
   "cell_type": "code",
   "execution_count": null,
   "metadata": {},
   "outputs": [],
   "source": []
  }
 ],
 "metadata": {
  "kernelspec": {
   "display_name": "Python 3",
   "language": "python",
   "name": "python3"
  },
  "language_info": {
   "codemirror_mode": {
    "name": "ipython",
    "version": 3
   },
   "file_extension": ".py",
   "mimetype": "text/x-python",
   "name": "python",
   "nbconvert_exporter": "python",
   "pygments_lexer": "ipython3",
   "version": "3.8.3"
  }
 },
 "nbformat": 4,
 "nbformat_minor": 4
}
